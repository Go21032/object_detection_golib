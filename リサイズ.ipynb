{
  "nbformat": 4,
  "nbformat_minor": 0,
  "metadata": {
    "colab": {
      "provenance": [],
      "gpuType": "T4",
      "include_colab_link": true
    },
    "kernelspec": {
      "name": "python3",
      "display_name": "Python 3"
    },
    "language_info": {
      "name": "python"
    },
    "accelerator": "GPU"
  },
  "cells": [
    {
      "cell_type": "markdown",
      "metadata": {
        "id": "view-in-github",
        "colab_type": "text"
      },
      "source": [
        "<a href=\"https://colab.research.google.com/github/Go21032/object_detection_golib/blob/main/%E3%83%AA%E3%82%B5%E3%82%A4%E3%82%BA.ipynb\" target=\"_parent\"><img src=\"https://colab.research.google.com/assets/colab-badge.svg\" alt=\"Open In Colab\"/></a>"
      ]
    },
    {
      "cell_type": "code",
      "execution_count": null,
      "metadata": {
        "colab": {
          "base_uri": "https://localhost:8080/"
        },
        "id": "Mtq-REkKFOwm",
        "outputId": "6984f3e2-2f6a-4ffb-a054-6bd914f3bb88"
      },
      "outputs": [
        {
          "output_type": "stream",
          "name": "stdout",
          "text": [
            "Drive already mounted at /content/drive; to attempt to forcibly remount, call drive.mount(\"/content/drive\", force_remount=True).\n"
          ]
        }
      ],
      "source": [
        "#ドライブをマウントする\n",
        "from google.colab import drive\n",
        "drive.mount('/content/drive')"
      ]
    },
    {
      "cell_type": "code",
      "source": [
        "#カレントディレクトリに移動\n",
        "%cd \"/content/drive/MyDrive/蓮ノ空CD機械学習\""
      ],
      "metadata": {
        "id": "WPpICbmEFigf",
        "colab": {
          "base_uri": "https://localhost:8080/"
        },
        "outputId": "4d1f71f7-116c-4e5b-a0a5-cb12ad0e1776"
      },
      "execution_count": null,
      "outputs": [
        {
          "output_type": "stream",
          "name": "stdout",
          "text": [
            "/content/drive/MyDrive/蓮ノ空CD機械学習\n"
          ]
        }
      ]
    },
    {
      "cell_type": "code",
      "source": [
        "!pip install pyheif"
      ],
      "metadata": {
        "colab": {
          "base_uri": "https://localhost:8080/"
        },
        "id": "EhEMtwKHd03d",
        "outputId": "224fc752-b4f0-4238-de05-78d4c5bd66c0"
      },
      "execution_count": null,
      "outputs": [
        {
          "output_type": "stream",
          "name": "stdout",
          "text": [
            "Requirement already satisfied: pyheif in /usr/local/lib/python3.10/dist-packages (0.7.1)\n",
            "Requirement already satisfied: cffi>=1.0.0 in /usr/local/lib/python3.10/dist-packages (from pyheif) (1.16.0)\n",
            "Requirement already satisfied: pycparser in /usr/local/lib/python3.10/dist-packages (from cffi>=1.0.0->pyheif) (2.21)\n"
          ]
        }
      ]
    },
    {
      "cell_type": "code",
      "source": [
        "import os\n",
        "import pyheif\n",
        "from PIL import Image\n",
        "\n",
        "def heic_to_jpg(input_folder, output_folder):\n",
        "    \"\"\"\n",
        "    input_folder内の全てのHEIC形式の画像をJPG形式に変換してoutput_folderに保存する関数\n",
        "    Args:\n",
        "        input_folder (str): 変換するHEIC画像が含まれるフォルダのパス\n",
        "        output_folder (str): 変換されたJPG画像を保存するフォルダのパス\n",
        "    \"\"\"\n",
        "    # 出力フォルダが存在しない場合は作成する\n",
        "    if not os.path.exists(output_folder):\n",
        "        os.makedirs(output_folder)\n",
        "\n",
        "    # 入力フォルダ内の全てのファイルについて処理を行う\n",
        "    for filename in os.listdir(input_folder):\n",
        "        if filename.endswith('.HEIC'):  # .heic拡張子のファイルを対象にする\n",
        "            # .heic画像を開く\n",
        "            heif_file = pyheif.read(os.path.join(input_folder, filename))\n",
        "            # PIL Imageに変換する\n",
        "            image = Image.frombytes(\n",
        "                heif_file.mode,\n",
        "                heif_file.size,\n",
        "                heif_file.data,\n",
        "                \"raw\",\n",
        "                heif_file.mode,\n",
        "                heif_file.stride,\n",
        "            )\n",
        "            # JPG形式に変換して保存する\n",
        "            image.save(os.path.join(output_folder, os.path.splitext(filename)[0] + '.jpg'), quality=95)\n",
        "\n",
        "# 変換するHEIC画像が含まれるフォルダのパス\n",
        "input_folder = '/content/drive/MyDrive/蓮ノ空CD機械学習/切り抜き'\n",
        "# 変換されたJPG画像を保存するフォルダのパス\n",
        "output_folder = '/content/drive/MyDrive/蓮ノ空CD機械学習/Hasu_data_verjpg'\n",
        "\n",
        "# HEIC画像をJPGに変換\n",
        "heic_to_jpg(input_folder, output_folder)"
      ],
      "metadata": {
        "id": "Q4hXzWVJWaMx"
      },
      "execution_count": null,
      "outputs": []
    },
    {
      "cell_type": "code",
      "source": [
        "# 必要なライブラリをインストール\n",
        "!pip install Pillow\n",
        "\n",
        "from PIL import Image\n",
        "import os\n",
        "\n",
        "def resize_images(input_folder, output_folder, new_size):\n",
        "    \"\"\"\n",
        "    input_folder内の全ての画像を新しいサイズにリサイズしてoutput_folderに保存する関数\n",
        "    Args:\n",
        "        input_folder (str): リサイズする画像が含まれるフォルダのパス\n",
        "        output_folder (str): リサイズされた画像を保存するフォルダのパス\n",
        "        new_size (tuple): 新しい画像のサイズ（幅, 高さ）\n",
        "    \"\"\"\n",
        "    # 出力フォルダが存在しない場合は作成する\n",
        "    if not os.path.exists(output_folder):\n",
        "        os.makedirs(output_folder)\n",
        "\n",
        "    # 入力フォルダ内の全てのファイルについて処理を行う\n",
        "    for filename in os.listdir(input_folder):\n",
        "        # ファイルが画像ファイルであるかをチェック\n",
        "        if filename.endswith(('png', 'jpg', 'jpeg', 'gif')):\n",
        "            # 画像ファイルを開く\n",
        "            with Image.open(os.path.join(input_folder, filename)) as img:\n",
        "                # 画像をリサイズする\n",
        "                resized_img = img.resize(new_size)\n",
        "                # リサイズされた画像を保存する\n",
        "                resized_img.save(os.path.join(output_folder, filename))\n",
        "\n",
        "# リサイズする画像が含まれるフォルダのパス\n",
        "input_folder = '/content/drive/MyDrive/蓮ノ空CD機械学習/Hasu_data_verjpg'\n",
        "# リサイズされた画像を保存するフォルダのパス\n",
        "output_folder = '/content/drive/MyDrive/蓮ノ空CD機械学習/ReSizeAfter'\n",
        "# 新しい画像のサイズ\n",
        "new_size = (320, 320)  # 幅と高さを指定\n",
        "\n",
        "# 画像のリサイズを実行\n",
        "resize_images(input_folder, output_folder, new_size)\n"
      ],
      "metadata": {
        "colab": {
          "base_uri": "https://localhost:8080/"
        },
        "id": "j2MMqFPtMe6w",
        "outputId": "f648af26-a470-402c-d30c-de72493cecc4"
      },
      "execution_count": null,
      "outputs": [
        {
          "output_type": "stream",
          "name": "stdout",
          "text": [
            "Requirement already satisfied: Pillow in /usr/local/lib/python3.10/dist-packages (9.4.0)\n"
          ]
        }
      ]
    }
  ]
}